{
 "cells": [
  {
   "cell_type": "code",
   "execution_count": null,
   "metadata": {},
   "outputs": [],
   "source": [
    "!pip install transformers\n",
    "!pip install nltk"
   ]
  },
  {
   "cell_type": "code",
   "execution_count": 1,
   "metadata": {},
   "outputs": [
    {
     "name": "stderr",
     "output_type": "stream",
     "text": [
      "[nltk_data] Downloading package stopwords to\n",
      "[nltk_data]     /Users/furkan/nltk_data...\n",
      "[nltk_data]   Package stopwords is already up-to-date!\n",
      "[nltk_data] Downloading package punkt to /Users/furkan/nltk_data...\n",
      "[nltk_data]   Package punkt is already up-to-date!\n",
      "[nltk_data] Downloading package wordnet to /Users/furkan/nltk_data...\n",
      "[nltk_data]   Package wordnet is already up-to-date!\n"
     ]
    }
   ],
   "source": [
    "from guardians import *\n",
    "from clean_text import *"
   ]
  },
  {
   "cell_type": "code",
   "execution_count": 4,
   "metadata": {},
   "outputs": [],
   "source": [
    "candidate_labels_bist = [\"akbank | akbnk | bank\", \"alark | alarko\", \"arcelik | arclk \", \"aselsan | asels\", \"ekgyo | emlak konut | real estate \", \"astor | energy\", \"eregli | eregl\", \"ford oto | froto\", \"garanti | garan | bank \", \"gubre |gubrf\"\n",
    "                          \"bimas\", \"enka\", \"hektas | hekts\", \"kchol | koc\", \"kozaa | koza\", \"kozal\", \"krdmd | kardemir\", \"odas\", \"petkm | petkim\", \"pgsus\", \"sahol | sabanci\", \"sasa\", \"sise | sisecam\",\n",
    "                         \"tavhl | tav\" , \"tcell | turkcell\", \"thyao | turk hava\", \"toaso | tofas\", \"tuprs | tupras\", \"ykbnk | yapi kredi\", \"isctr | is bank\"\n",
    "                        ]"
   ]
  },
  {
   "cell_type": "code",
   "execution_count": 2,
   "metadata": {},
   "outputs": [],
   "source": [
    "candidate_labels_nasdaq = ['apple', 'amazon', 'google', 'tesla', 'microsoft', 'other | not related to stock market']\n",
    "candidate_labels_nasdaq2 = ['apple', 'amazon', 'google', 'tesla', 'microsoft', 'not related to stock market']\n",
    "candidate_labels_nasdaq3 = ['apple', 'amazon', 'google', 'tesla', 'microsoft', 'other']\n",
    "marcets = candidate_labels_nasdaq[:-1]"
   ]
  },
  {
   "cell_type": "code",
   "execution_count": 3,
   "metadata": {},
   "outputs": [],
   "source": [
    "from transformers import pipeline\n",
    "import pandas as pd\n",
    "classifier = pipeline(\"zero-shot-classification\",\n",
    "                      model=\"facebook/bart-large-mnli\")"
   ]
  },
  {
   "cell_type": "code",
   "execution_count": 4,
   "metadata": {},
   "outputs": [],
   "source": [
    "def topic_classify(df, stock_name, classifier, th = 0.5):\n",
    "    \n",
    "    df['found_labels'] = None\n",
    "    #with open(\"classified_{}.txt\".format(stock_name), \"w\") as file:\n",
    "    for index, row in df.iterrows():\n",
    "        valid_labels = []\n",
    "        temp = classifier(row['cleaned_text'], candidate_labels_nasdaq3, multi_label= True)\n",
    "        # file.write(temp[\"sequence\"])\n",
    "        # file.write(\"\\n\")\n",
    "        # file.write(str(temp[\"labels\"]))\n",
    "        # file.write(\"\\n\")\n",
    "        # file.write(str(temp[\"scores\"]))\n",
    "        # file.write(\"\\n\")\n",
    "        # file.write(\"--------------------------------------------------\\n\")\n",
    "        for i in range(len(temp[\"labels\"])):\n",
    "            if temp['scores'][i] >= th and temp['labels'][i] != \"other\":\n",
    "                valid_labels.append((temp['labels'][i], temp['scores'][i]))\n",
    "                \n",
    "        df['found_labels'][index] = valid_labels if len(valid_labels) > 0 else None\n",
    "    return df\n",
    "    "
   ]
  },
  {
   "cell_type": "markdown",
   "metadata": {},
   "source": [
    "## Apple"
   ]
  },
  {
   "cell_type": "code",
   "execution_count": 24,
   "metadata": {},
   "outputs": [],
   "source": [
    "\n",
    "pages, info = retrieve_info(marcets[0])\n",
    "dfnews = parse_info(info, pages)\n",
    "\n",
    "dfnews['cleaned_text'] = dfnews['webtitle'].apply(lambda x: textCleaning(x))\n"
   ]
  },
  {
   "cell_type": "code",
   "execution_count": 25,
   "metadata": {},
   "outputs": [],
   "source": [
    "dfnews = topic_classify(dfnews, \"apple\", classifier, th = 0.4 )\n",
    "dfnews.to_excel('saved/apple.xlsx', index=False)"
   ]
  },
  {
   "cell_type": "markdown",
   "metadata": {},
   "source": [
    "## Amazon"
   ]
  },
  {
   "cell_type": "code",
   "execution_count": 15,
   "metadata": {},
   "outputs": [
    {
     "name": "stdout",
     "output_type": "stream",
     "text": [
      "<bound method NDFrame.head of        typee           sectionId         sectionName  \\\n",
      "0    article          technology          Technology   \n",
      "1    article         environment         Environment   \n",
      "2    article               world          World news   \n",
      "3    article  global-development  Global development   \n",
      "4    article          technology          Technology   \n",
      "..       ...                 ...                 ...   \n",
      "885  article      australia-news      Australia news   \n",
      "886  article          technology          Technology   \n",
      "887  article          technology          Technology   \n",
      "888  article          technology          Technology   \n",
      "889  article          technology          Technology   \n",
      "\n",
      "                                              webtitle         publisheddate  \n",
      "0                 Could AI save the Amazon rainforest?  2023-04-29T15:00:39Z  \n",
      "1    Brazilian president Lula pledges ‘new Amazon d...  2023-08-08T21:48:48Z  \n",
      "2    White nationalist publisher’s data exposed in ...  2023-07-08T12:00:15Z  \n",
      "3    The multinational companies that industrialise...  2023-06-02T12:00:03Z  \n",
      "4    Bernie Sanders launches investigation into wor...  2023-06-20T17:19:13Z  \n",
      "..                                                 ...                   ...  \n",
      "885  Apple and Google face block on taking cut from...  2023-07-19T00:00:33Z  \n",
      "886  Google says AI systems should be able to mine ...  2023-08-08T23:00:40Z  \n",
      "887  Google chief warns AI could be harmful if depl...  2023-04-17T10:43:58Z  \n",
      "888  Google says Australia’s online privacy law sho...  2023-06-15T15:00:19Z  \n",
      "889  Google Pixel 7a review: the best mid-range pho...  2023-05-15T06:00:16Z  \n",
      "\n",
      "[890 rows x 5 columns]>\n"
     ]
    }
   ],
   "source": [
    "\n",
    "pages, info = retrieve_info(marcets[1])\n",
    "dfnews = parse_info(info, pages)\n",
    "\n",
    "dfnews['cleaned_text'] = dfnews['webtitle'].apply(lambda x: textCleaning(x))\n"
   ]
  },
  {
   "cell_type": "code",
   "execution_count": 17,
   "metadata": {},
   "outputs": [],
   "source": [
    "dfnews = topic_classify(dfnews, \"amazon\", classifier, th = 0.4 )\n",
    "dfnews.to_excel('saved/amazon.xlsx', index=False)\n",
    "\n",
    "                "
   ]
  },
  {
   "cell_type": "markdown",
   "metadata": {},
   "source": [
    "# Google"
   ]
  },
  {
   "cell_type": "code",
   "execution_count": 26,
   "metadata": {},
   "outputs": [],
   "source": [
    "pages, info = retrieve_info(marcets[2])\n",
    "dfnews = parse_info(info, pages)\n",
    "\n",
    "dfnews['cleaned_text'] = dfnews['webtitle'].apply(lambda x: textCleaning(x))\n"
   ]
  },
  {
   "cell_type": "code",
   "execution_count": 27,
   "metadata": {},
   "outputs": [],
   "source": [
    "dfnews = topic_classify(dfnews, \"google\", classifier, th = 0.4 )\n",
    "dfnews.to_excel('saved/google.xlsx', index=False)"
   ]
  },
  {
   "cell_type": "markdown",
   "metadata": {},
   "source": [
    "# Tesla"
   ]
  },
  {
   "cell_type": "code",
   "execution_count": 20,
   "metadata": {},
   "outputs": [],
   "source": [
    "pages, info = retrieve_info(marcets[3])\n",
    "dfnews = parse_info(info, pages)\n",
    "\n",
    "dfnews['cleaned_text'] = dfnews['webtitle'].apply(lambda x: textCleaning(x))"
   ]
  },
  {
   "cell_type": "code",
   "execution_count": 21,
   "metadata": {},
   "outputs": [],
   "source": [
    "dfnews = topic_classify(dfnews, \"tesla\", classifier, th = 0.4 )\n",
    "dfnews.to_excel('saved/tesla.xlsx', index=False)"
   ]
  },
  {
   "cell_type": "markdown",
   "metadata": {},
   "source": [
    "# Microsoft"
   ]
  },
  {
   "cell_type": "code",
   "execution_count": 22,
   "metadata": {},
   "outputs": [],
   "source": [
    "pages, info = retrieve_info(marcets[4])\n",
    "dfnews = parse_info(info, pages)\n",
    "\n",
    "dfnews['cleaned_text'] = dfnews['webtitle'].apply(lambda x: textCleaning(x))"
   ]
  },
  {
   "cell_type": "code",
   "execution_count": 23,
   "metadata": {},
   "outputs": [],
   "source": [
    "dfnews = topic_classify(dfnews, \"microsoft\", classifier, th = 0.4 )\n",
    "dfnews.to_excel('saved/microsoft.xlsx', index=False)"
   ]
  }
 ],
 "metadata": {
  "kernelspec": {
   "display_name": "env",
   "language": "python",
   "name": "python3"
  },
  "language_info": {
   "codemirror_mode": {
    "name": "ipython",
    "version": 3
   },
   "file_extension": ".py",
   "mimetype": "text/x-python",
   "name": "python",
   "nbconvert_exporter": "python",
   "pygments_lexer": "ipython3",
   "version": "3.10.12"
  },
  "orig_nbformat": 4
 },
 "nbformat": 4,
 "nbformat_minor": 2
}
