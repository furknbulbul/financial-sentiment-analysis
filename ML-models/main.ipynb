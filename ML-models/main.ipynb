{
 "cells": [
  {
   "cell_type": "code",
   "execution_count": 85,
   "metadata": {},
   "outputs": [],
   "source": [
    "from sentiment.modeling import *\n",
    "from sentiment.data_loader import *\n",
    "from sentiment.training import *\n",
    "from transformers import BertTokenizer\n",
    "import pandas as pd\n",
    "from transformers import DataCollatorWithPadding\n",
    "from torch.utils.data import Dataset, DataLoader\n",
    "from utils import *\n",
    "import ast\n",
    "\n"
   ]
  },
  {
   "cell_type": "code",
   "execution_count": 59,
   "metadata": {},
   "outputs": [],
   "source": [
    "stock_names = [\"apple\", \"amazon\", \"google\", \"microsoft\", \"tesla\"]"
   ]
  },
  {
   "cell_type": "code",
   "execution_count": 138,
   "metadata": {},
   "outputs": [
    {
     "data": {
      "text/plain": [
       "<All keys matched successfully>"
      ]
     },
     "execution_count": 138,
     "metadata": {},
     "output_type": "execute_result"
    }
   ],
   "source": [
    "model_bert = SentimentClassifier(2, \"bert-base-uncased\", do_fine_tune = False).to(device)\n",
    "model_bert.load_state_dict(torch.load(\"sentiment/saved_models/bert-base-with-dropout.bin\")) # tried to load different model - "
   ]
  },
  {
   "cell_type": "code",
   "execution_count": 139,
   "metadata": {},
   "outputs": [
    {
     "data": {
      "text/plain": [
       "<All keys matched successfully>"
      ]
     },
     "execution_count": 139,
     "metadata": {},
     "output_type": "execute_result"
    }
   ],
   "source": [
    "model_finbert = SentimentClassifier(2, \"ProsusAI/finbert\", do_fine_tune = False).to(device)\n",
    "model_finbert.load_state_dict(torch.load(\"sentiment/saved_models/finbert-fine-tune.bin\")) # tried to load different model - "
   ]
  },
  {
   "cell_type": "code",
   "execution_count": 140,
   "metadata": {},
   "outputs": [],
   "source": [
    "def sanitize_date(date):\n",
    "    date = date.split(\"T\")[0]\n",
    "    return date"
   ]
  },
  {
   "cell_type": "code",
   "execution_count": 150,
   "metadata": {},
   "outputs": [],
   "source": [
    "def preprocess_data(df):\n",
    "    df.dropna(inplace=True)\n",
    "    df['stock'] = df['found_labels'].apply(lambda x: ast.literal_eval(x)[0][0])\n",
    "    df['date_sanitized'] = df['publisheddate'].apply(lambda x: sanitize_date(x))\n",
    "    df.rename(columns={'cleaned_text': 'news'}, inplace=True)\n",
    "    return df\n",
    "\n",
    "    "
   ]
  },
  {
   "cell_type": "code",
   "execution_count": 64,
   "metadata": {},
   "outputs": [],
   "source": [
    "def get_pred(model, data_loader):\n",
    "    model = model.eval()\n",
    "    predictions = []\n",
    "    prediction_probs = []\n",
    "\n",
    "    with torch.no_grad():\n",
    "        for d in data_loader:\n",
    "            input_ids = d[\"input_ids\"].to(device)\n",
    "            attention_mask = d[\"attention_mask\"].to(device)\n",
    "            outputs = model(input_ids = input_ids, attention_mask = attention_mask)\n",
    "            _, preds = torch.max(outputs, dim=1)\n",
    "            probs = F.softmax(outputs, dim =1)\n",
    "            predictions.extend(preds)\n",
    "            prediction_probs.extend(probs)\n",
    "    predictions = torch.stack(predictions).cpu()\n",
    "    prediction_probs = torch.stack(prediction_probs).cpu()\n",
    "    return predictions, prediction_probs\n"
   ]
  },
  {
   "cell_type": "code",
   "execution_count": 143,
   "metadata": {},
   "outputs": [],
   "source": [
    "import ast\n",
    "def prepare_data(stock_name):\n",
    "    df = df.dropna()\n",
    "    df['stock'] = df['found_labels'].apply(lambda x: ast.literal_eval(x)[0][0])\n",
    "    df['date_sanitized'] = df['publisheddate'].apply(lambda x: sanitize_date(x))\n",
    "    df.rename(columns={'cleaned_text': 'news'}, inplace=True)\n",
    "    return df\n",
    "\n"
   ]
  },
  {
   "cell_type": "code",
   "execution_count": 151,
   "metadata": {},
   "outputs": [
    {
     "name": "stdout",
     "output_type": "stream",
     "text": [
      "(875, 9)\n"
     ]
    }
   ],
   "source": [
    "temp = [\"classification/saved/{}.xlsx\".format(i) for i in stock_names]\n",
    "combined_df = concat_excels(\"combined.xlsx\", *temp)\n",
    "\n",
    "combined_df = preprocess_data(combined_df)\n",
    "print(combined_df.shape)\n"
   ]
  },
  {
   "cell_type": "code",
   "execution_count": 154,
   "metadata": {},
   "outputs": [],
   "source": [
    "device = torch.device(\"cuda\" if torch.cuda.is_available() else \"cpu\")\n",
    "def create_data_load(df, tokenizer, max_len, batch_size):\n",
    "    collator = DataCollatorWithPadding(tokenizer=tokenizer, padding=True)\n",
    "    ds = NewsDataset(\n",
    "        news=df.news.to_list(),\n",
    "        labels = [None]* len(df),\n",
    "        tokenizer=tokenizer,\n",
    "        max_len=max_len,\n",
    "        train=False\n",
    "    )\n",
    "\n",
    "    return DataLoader(\n",
    "        ds,\n",
    "        batch_size=batch_size,\n",
    "        collate_fn=collator)"
   ]
  },
  {
   "cell_type": "markdown",
   "metadata": {},
   "source": [
    "## Apple"
   ]
  },
  {
   "cell_type": "markdown",
   "metadata": {},
   "source": [
    "### Bert"
   ]
  },
  {
   "cell_type": "code",
   "execution_count": 155,
   "metadata": {},
   "outputs": [
    {
     "name": "stdout",
     "output_type": "stream",
     "text": [
      "(875, 9)\n"
     ]
    },
    {
     "data": {
      "text/plain": [
       "(29, 9)"
      ]
     },
     "execution_count": 155,
     "metadata": {},
     "output_type": "execute_result"
    }
   ],
   "source": [
    "apple_df = combined_df[combined_df['stock'] == 'apple']\n",
    "print(combined_df.shape)\n",
    "apple_df.shape\n",
    "\n"
   ]
  },
  {
   "cell_type": "code",
   "execution_count": 172,
   "metadata": {},
   "outputs": [],
   "source": [
    "MAX_LEN = 512\n",
    "BATCH_SIZE = 8\n",
    "\n",
    "tokenizer = BertTokenizer.from_pretrained('bert-base-uncased', do_lower_case=True)\n",
    "data_loader = create_data_load(apple_df,tokenizer,  MAX_LEN, batch_size=BATCH_SIZE, )\n",
    "y_pred, y_pred_probs = get_pred(model_bert, data_loader)"
   ]
  },
  {
   "cell_type": "code",
   "execution_count": 174,
   "metadata": {},
   "outputs": [
    {
     "name": "stderr",
     "output_type": "stream",
     "text": [
      "/var/folders/gc/x802xnyx4rj6hr9pwwb2qr0r0000gn/T/ipykernel_64013/3557976019.py:1: SettingWithCopyWarning: \n",
      "A value is trying to be set on a copy of a slice from a DataFrame.\n",
      "Try using .loc[row_indexer,col_indexer] = value instead\n",
      "\n",
      "See the caveats in the documentation: https://pandas.pydata.org/pandas-docs/stable/user_guide/indexing.html#returning-a-view-versus-a-copy\n",
      "  apple_df['Predicted'] = y_pred.tolist()\n"
     ]
    }
   ],
   "source": [
    "apple_df['Predicted'] = y_pred.tolist()\n",
    "apple_df.to_excel('data/apple_predictions.xlsx')\n"
   ]
  },
  {
   "cell_type": "markdown",
   "metadata": {},
   "source": [
    "### Finbert"
   ]
  },
  {
   "cell_type": "code",
   "execution_count": 158,
   "metadata": {},
   "outputs": [
    {
     "name": "stderr",
     "output_type": "stream",
     "text": [
      "/var/folders/gc/x802xnyx4rj6hr9pwwb2qr0r0000gn/T/ipykernel_64013/3683344250.py:7: SettingWithCopyWarning: \n",
      "A value is trying to be set on a copy of a slice from a DataFrame.\n",
      "Try using .loc[row_indexer,col_indexer] = value instead\n",
      "\n",
      "See the caveats in the documentation: https://pandas.pydata.org/pandas-docs/stable/user_guide/indexing.html#returning-a-view-versus-a-copy\n",
      "  apple_df[\"Predicted_Finbert\"] = y_pred\n"
     ]
    }
   ],
   "source": [
    "MAX_LEN = 512\n",
    "BATCH_SIZE = 8\n",
    "\n",
    "tokenizer = BertTokenizer.from_pretrained('ProsusAI/finbert', do_lower_case=True)\n",
    "data_loader = create_data_load(apple_df,tokenizer,  MAX_LEN, batch_size=BATCH_SIZE, )\n",
    "y_pred, y_pred_probs = get_pred(model_finbert, data_loader)\n",
    "apple_df[\"Predicted_Finbert\"] = y_pred\n",
    "apple_df.to_excel(\"data/apple_predictions_finbert.xlsx\")"
   ]
  },
  {
   "cell_type": "markdown",
   "metadata": {},
   "source": [
    "# Amazon"
   ]
  },
  {
   "cell_type": "code",
   "execution_count": 159,
   "metadata": {},
   "outputs": [
    {
     "name": "stderr",
     "output_type": "stream",
     "text": [
      "/var/folders/gc/x802xnyx4rj6hr9pwwb2qr0r0000gn/T/ipykernel_64013/3387824434.py:8: SettingWithCopyWarning: \n",
      "A value is trying to be set on a copy of a slice from a DataFrame.\n",
      "Try using .loc[row_indexer,col_indexer] = value instead\n",
      "\n",
      "See the caveats in the documentation: https://pandas.pydata.org/pandas-docs/stable/user_guide/indexing.html#returning-a-view-versus-a-copy\n",
      "  amazon_df['Predicted'] = y_pred.tolist()\n"
     ]
    }
   ],
   "source": [
    "amazon_df = combined_df[combined_df['stock'] == 'amazon']\n",
    "MAX_LEN = 512\n",
    "BATCH_SIZE = 8\n",
    "\n",
    "tokenizer = BertTokenizer.from_pretrained('bert-base-uncased', do_lower_case=True)\n",
    "data_loader = create_data_load(amazon_df,tokenizer,  MAX_LEN, batch_size=BATCH_SIZE, )\n",
    "y_pred, y_pred_probs = get_pred(model_bert, data_loader)\n",
    "amazon_df['Predicted'] = y_pred.tolist()\n",
    "amazon_df.to_excel('data/amazon_predictions.xlsx')"
   ]
  },
  {
   "cell_type": "markdown",
   "metadata": {},
   "source": [
    "### Finbert"
   ]
  },
  {
   "cell_type": "code",
   "execution_count": 166,
   "metadata": {},
   "outputs": [
    {
     "name": "stderr",
     "output_type": "stream",
     "text": [
      "/var/folders/gc/x802xnyx4rj6hr9pwwb2qr0r0000gn/T/ipykernel_64013/2535870459.py:7: SettingWithCopyWarning: \n",
      "A value is trying to be set on a copy of a slice from a DataFrame.\n",
      "Try using .loc[row_indexer,col_indexer] = value instead\n",
      "\n",
      "See the caveats in the documentation: https://pandas.pydata.org/pandas-docs/stable/user_guide/indexing.html#returning-a-view-versus-a-copy\n",
      "  amazon_df[\"Predicted_Finbert\"] = y_pred.tolist()\n"
     ]
    }
   ],
   "source": [
    "MAX_LEN = 512\n",
    "BATCH_SIZE = 8\n",
    "\n",
    "tokenizer = BertTokenizer.from_pretrained('ProsusAI/finbert', do_lower_case=True)\n",
    "data_loader = create_data_load(amazon_df,tokenizer,  MAX_LEN, batch_size=BATCH_SIZE, )\n",
    "y_pred, y_pred_probs = get_pred(model_finbert, data_loader)\n",
    "amazon_df[\"Predicted_Finbert\"] = y_pred.tolist()\n",
    "amazon_df.to_excel(\"data/amazon_predictions_finbert.xlsx\")"
   ]
  },
  {
   "cell_type": "markdown",
   "metadata": {},
   "source": [
    "# Tesla"
   ]
  },
  {
   "cell_type": "code",
   "execution_count": 168,
   "metadata": {},
   "outputs": [
    {
     "name": "stderr",
     "output_type": "stream",
     "text": [
      "/var/folders/gc/x802xnyx4rj6hr9pwwb2qr0r0000gn/T/ipykernel_64013/648360875.py:5: SettingWithCopyWarning: \n",
      "A value is trying to be set on a copy of a slice from a DataFrame.\n",
      "Try using .loc[row_indexer,col_indexer] = value instead\n",
      "\n",
      "See the caveats in the documentation: https://pandas.pydata.org/pandas-docs/stable/user_guide/indexing.html#returning-a-view-versus-a-copy\n",
      "  tesla_df['Predicted'] = y_pred.tolist()\n"
     ]
    }
   ],
   "source": [
    "tesla_df = combined_df[combined_df['stock'] == 'tesla']\n",
    "tokenizer = BertTokenizer.from_pretrained('bert-base-uncased', do_lower_case=True)\n",
    "data_loader = create_data_load(tesla_df,tokenizer,  MAX_LEN, batch_size=BATCH_SIZE, )\n",
    "y_pred, y_pred_probs = get_pred(model_bert, data_loader)\n",
    "tesla_df['Predicted'] = y_pred.tolist()\n",
    "tesla_df.to_excel('data/tesla_predictions.xlsx')\n"
   ]
  },
  {
   "cell_type": "markdown",
   "metadata": {},
   "source": [
    "### Finbert"
   ]
  },
  {
   "cell_type": "code",
   "execution_count": 169,
   "metadata": {},
   "outputs": [
    {
     "name": "stderr",
     "output_type": "stream",
     "text": [
      "/var/folders/gc/x802xnyx4rj6hr9pwwb2qr0r0000gn/T/ipykernel_64013/3810524895.py:7: SettingWithCopyWarning: \n",
      "A value is trying to be set on a copy of a slice from a DataFrame.\n",
      "Try using .loc[row_indexer,col_indexer] = value instead\n",
      "\n",
      "See the caveats in the documentation: https://pandas.pydata.org/pandas-docs/stable/user_guide/indexing.html#returning-a-view-versus-a-copy\n",
      "  tesla_df['Predicted_Finbert'] = y_pred.tolist()\n"
     ]
    }
   ],
   "source": [
    "\n",
    "MAX_LEN = 512\n",
    "BATCH_SIZE = 8\n",
    "\n",
    "tokenizer = BertTokenizer.from_pretrained('ProsusAI/finbert', do_lower_case=True)\n",
    "data_loader = create_data_load(tesla_df,tokenizer,  MAX_LEN, batch_size=BATCH_SIZE, )\n",
    "y_pred, y_pred_probs = get_pred(model_finbert, data_loader)\n",
    "tesla_df['Predicted_Finbert'] = y_pred.tolist()\n",
    "tesla_df.to_excel('data/tesla_predictions_finbert.xlsx')"
   ]
  },
  {
   "cell_type": "markdown",
   "metadata": {},
   "source": [
    "# Microsoft"
   ]
  },
  {
   "cell_type": "code",
   "execution_count": 170,
   "metadata": {},
   "outputs": [
    {
     "name": "stdout",
     "output_type": "stream",
     "text": [
      "36\n",
      "36\n"
     ]
    },
    {
     "name": "stderr",
     "output_type": "stream",
     "text": [
      "/var/folders/gc/x802xnyx4rj6hr9pwwb2qr0r0000gn/T/ipykernel_64013/217823965.py:8: SettingWithCopyWarning: \n",
      "A value is trying to be set on a copy of a slice from a DataFrame.\n",
      "Try using .loc[row_indexer,col_indexer] = value instead\n",
      "\n",
      "See the caveats in the documentation: https://pandas.pydata.org/pandas-docs/stable/user_guide/indexing.html#returning-a-view-versus-a-copy\n",
      "  microsoft_df['Predicted'] = y_pred.tolist()\n"
     ]
    }
   ],
   "source": [
    "microsoft_df = combined_df[combined_df['stock'] == 'microsoft']\n",
    "MAX_LEN = 512\n",
    "BATCH_SIZE = 8\n",
    "\n",
    "tokenizer = BertTokenizer.from_pretrained('bert-base-uncased', do_lower_case=True)\n",
    "data_loader = create_data_load(microsoft_df,tokenizer,  MAX_LEN, batch_size=BATCH_SIZE, )\n",
    "y_pred, y_pred_probs = get_pred(model_bert, data_loader)\n",
    "microsoft_df['Predicted'] = y_pred.tolist()\n",
    "microsoft_df.to_excel('data/microsoft_predictions.xlsx')\n",
    "print(len(y_pred))\n",
    "print(len(microsoft_df))"
   ]
  },
  {
   "cell_type": "code",
   "execution_count": 171,
   "metadata": {},
   "outputs": [
    {
     "name": "stderr",
     "output_type": "stream",
     "text": [
      "/var/folders/gc/x802xnyx4rj6hr9pwwb2qr0r0000gn/T/ipykernel_64013/3892890611.py:4: SettingWithCopyWarning: \n",
      "A value is trying to be set on a copy of a slice from a DataFrame.\n",
      "Try using .loc[row_indexer,col_indexer] = value instead\n",
      "\n",
      "See the caveats in the documentation: https://pandas.pydata.org/pandas-docs/stable/user_guide/indexing.html#returning-a-view-versus-a-copy\n",
      "  microsoft_df['Predicted_Finbert'] = y_pred.tolist()\n"
     ]
    }
   ],
   "source": [
    "tokenizer = BertTokenizer.from_pretrained('ProsusAI/finbert', do_lower_case=True)\n",
    "data_loader = create_data_load(microsoft_df,tokenizer,  MAX_LEN, batch_size=BATCH_SIZE )\n",
    "y_pred, y_pred_probs = get_pred(model_finbert, data_loader)\n",
    "microsoft_df['Predicted_Finbert'] = y_pred.tolist()\n",
    "microsoft_df.to_excel('data/microsoft_predictions_finbert.xlsx')"
   ]
  },
  {
   "cell_type": "markdown",
   "metadata": {},
   "source": [
    "# Google"
   ]
  },
  {
   "cell_type": "code",
   "execution_count": 175,
   "metadata": {},
   "outputs": [
    {
     "name": "stdout",
     "output_type": "stream",
     "text": [
      "77\n",
      "77\n"
     ]
    },
    {
     "name": "stderr",
     "output_type": "stream",
     "text": [
      "/var/folders/gc/x802xnyx4rj6hr9pwwb2qr0r0000gn/T/ipykernel_64013/990451175.py:8: SettingWithCopyWarning: \n",
      "A value is trying to be set on a copy of a slice from a DataFrame.\n",
      "Try using .loc[row_indexer,col_indexer] = value instead\n",
      "\n",
      "See the caveats in the documentation: https://pandas.pydata.org/pandas-docs/stable/user_guide/indexing.html#returning-a-view-versus-a-copy\n",
      "  google_df['Predicted'] = y_pred.tolist()\n"
     ]
    }
   ],
   "source": [
    "google_df = combined_df[combined_df['stock'] == 'google']\n",
    "MAX_LEN = 512\n",
    "BATCH_SIZE = 8\n",
    "\n",
    "tokenizer = BertTokenizer.from_pretrained('bert-base-uncased', do_lower_case=True)\n",
    "data_loader = create_data_load(google_df,tokenizer,  MAX_LEN, batch_size=BATCH_SIZE, )\n",
    "y_pred, y_pred_probs = get_pred(model_bert, data_loader)\n",
    "google_df['Predicted'] = y_pred.tolist()\n",
    "print(len(y_pred.tolist()))\n",
    "print(len(google_df))\n",
    "#google_df.to_excel('data/google_predictions.xlsx')"
   ]
  },
  {
   "cell_type": "code",
   "execution_count": 176,
   "metadata": {},
   "outputs": [
    {
     "name": "stderr",
     "output_type": "stream",
     "text": [
      "/var/folders/gc/x802xnyx4rj6hr9pwwb2qr0r0000gn/T/ipykernel_64013/1581051404.py:4: SettingWithCopyWarning: \n",
      "A value is trying to be set on a copy of a slice from a DataFrame.\n",
      "Try using .loc[row_indexer,col_indexer] = value instead\n",
      "\n",
      "See the caveats in the documentation: https://pandas.pydata.org/pandas-docs/stable/user_guide/indexing.html#returning-a-view-versus-a-copy\n",
      "  google_df['Predicted_Finbert'] = y_pred.tolist()\n"
     ]
    }
   ],
   "source": [
    "tokenizer = BertTokenizer.from_pretrained('ProsusAI/finbert', do_lower_case=True)\n",
    "data_loader = create_data_load(google_df,tokenizer,  MAX_LEN, batch_size=BATCH_SIZE, )\n",
    "y_pred, y_pred_probs = get_pred(model_finbert, data_loader)\n",
    "google_df['Predicted_Finbert'] = y_pred.tolist()\n",
    "google_df.to_excel('data/google_predictions_finbert.xlsx')"
   ]
  },
  {
   "cell_type": "code",
   "execution_count": 177,
   "metadata": {},
   "outputs": [],
   "source": [
    "MAX_LEN = 256\n",
    "BATCH_SIZE = 32\n",
    "df = pd.read_excel(\"data/dataset_majority_voting.xlsx\")\n",
    "df.rename(columns={\"clean_text\": \"news\"}, inplace=True)\n",
    "\n",
    "tokenizer = BertTokenizer.from_pretrained('bert-base-uncased', do_lower_case=True)\n",
    "data = create_data_load(df,tokenizer,  MAX_LEN, batch_size=BATCH_SIZE)\n",
    "\n",
    "y_pred, y_pred_probs = get_pred(model_bert, data)\n",
    "for i in range(len(y_pred)):\n",
    "    df.loc[i, \"furkanB\"] = \"Positive\" if y_pred[i] else \"Negative\"\n",
    "    \n",
    "\n",
    "df.to_excel(\"temp.xlsx\", index=False)\n",
    "\n"
   ]
  }
 ],
 "metadata": {
  "kernelspec": {
   "display_name": "env",
   "language": "python",
   "name": "python3"
  },
  "language_info": {
   "codemirror_mode": {
    "name": "ipython",
    "version": 3
   },
   "file_extension": ".py",
   "mimetype": "text/x-python",
   "name": "python",
   "nbconvert_exporter": "python",
   "pygments_lexer": "ipython3",
   "version": "3.10.12"
  },
  "orig_nbformat": 4
 },
 "nbformat": 4,
 "nbformat_minor": 2
}
