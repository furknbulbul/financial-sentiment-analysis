{
 "cells": [
  {
   "cell_type": "code",
   "execution_count": 1,
   "metadata": {},
   "outputs": [],
   "source": [
    "from data_loader import *\n",
    "from modeling import *\n",
    "from training import *\n",
    "import pandas as pd\n",
    "\n",
    "from sklearn.model_selection import train_test_split\n",
    "from sklearn.metrics import confusion_matrix, classification_report\n",
    "from transformers import BertTokenizer, get_linear_schedule_with_warmup\n",
    "import seaborn as sns\n",
    "import matplotlib.pyplot as plt\n",
    "from torch import optim\n",
    "from collections import defaultdict\n"
   ]
  },
  {
   "cell_type": "markdown",
   "metadata": {},
   "source": [
    "used data on https://github.com/surge-ai/stock-sentiment\n",
    "\n",
    "_note_: what I mean by fine tune model is adding dropout layer. will look into further options later"
   ]
  },
  {
   "cell_type": "code",
   "execution_count": 2,
   "metadata": {},
   "outputs": [
    {
     "name": "stdout",
     "output_type": "stream",
     "text": [
      "Index(['Stock Ticker', 'news', 'Sentiment', 'Tweet URL', 'labels'], dtype='object')\n",
      "labels\n",
      "1    327\n",
      "0    173\n",
      "Name: count, dtype: int64\n"
     ]
    }
   ],
   "source": [
    "RANDOM_SEED = 42\n",
    "\n",
    "df = pd.read_csv(\"data/sentiment.csv\")  \n",
    "map_sentiment = { 'Negative': 0, 'Positive': 1} \n",
    "class_names = ['Negative', 'Positive']\n",
    "df.rename(columns={'Tweet Text': 'news'}, inplace=True)  # change the description name to news as dataloaders.py expects news as column name\n",
    "\n",
    "df['labels'] = df['Sentiment'].map(map_sentiment)  # map the sentiment to 0 and 1\n",
    "\n",
    "print(df.columns)\n",
    "print(df.labels.value_counts())  # check the distribution of the labels\n"
   ]
  },
  {
   "cell_type": "markdown",
   "metadata": {
    "collapsed": false
   },
   "source": [
    "# Bert Model"
   ]
  },
  {
   "cell_type": "code",
   "execution_count": 3,
   "metadata": {},
   "outputs": [],
   "source": [
    "\n",
    "pre_trained_model = \"bert-base-uncased\" \n",
    "tokenizer = BertTokenizer.from_pretrained(pre_trained_model) # load the tokenizer\n"
   ]
  },
  {
   "cell_type": "code",
   "execution_count": 5,
   "metadata": {},
   "outputs": [
    {
     "name": "stderr",
     "output_type": "stream",
     "text": [
      "/var/folders/gc/x802xnyx4rj6hr9pwwb2qr0r0000gn/T/ipykernel_5973/3119126063.py:9: UserWarning: \n",
      "\n",
      "`distplot` is a deprecated function and will be removed in seaborn v0.14.0.\n",
      "\n",
      "Please adapt your code to use either `displot` (a figure-level function with\n",
      "similar flexibility) or `histplot` (an axes-level function for histograms).\n",
      "\n",
      "For a guide to updating your code to use the new functions, please see\n",
      "https://gist.github.com/mwaskom/de44147ed2974457ad6372750bbe5751\n",
      "\n",
      "  sns.distplot(token_lens)\n"
     ]
    },
    {
     "data": {
      "text/plain": [
       "Text(0.5, 0, 'Token count')"
      ]
     },
     "execution_count": 5,
     "metadata": {},
     "output_type": "execute_result"
    },
    {
     "data": {
      "image/png": "[encoded data removed]",
      "text/plain": [
       "<Figure size 640x480 with 1 Axes>"
      ]
     },
     "metadata": {},
     "output_type": "display_data"
    }
   ],
   "source": [
    "# check the distribution of the token length\n",
    "\n",
    "token_lens = []\n",
    "for txt in df[\"news\"]:\n",
    "    tokens = tokenizer.encode(txt, truncation=True, max_length=512)\n",
    "    token_lens.append(len(tokens))\n",
    "\n",
    "\n",
    "sns.distplot(token_lens)\n",
    "\n",
    "plt.xlim([0,256])\n",
    "\n",
    "plt.xlabel('Token count')"
   ]
  },
  {
   "cell_type": "code",
   "execution_count": 4,
   "metadata": {},
   "outputs": [],
   "source": [
    "# split the data to train, validation and test\n",
    "\n",
    "df_train, df_test = train_test_split(df, test_size = 0.3, random_state = RANDOM_SEED)\n",
    "\n",
    "df_val, df_test = train_test_split(df_test, test_size = 0.5, random_state = RANDOM_SEED)"
   ]
  },
  {
   "cell_type": "code",
   "execution_count": 5,
   "metadata": {},
   "outputs": [
    {
     "name": "stdout",
     "output_type": "stream",
     "text": [
      "(350, 5) (75, 5) (75, 5)\n"
     ]
    }
   ],
   "source": [
    "\n",
    "max_len = 128 # change accordingly\n",
    "batch_size = 16 # change accordingly, bu kisimdan emin degilim cunku sonrasinda max len e gore padding yapiyor gibi\n",
    "\n",
    "train_data_loader = create_data_loader(df_train, tokenizer,  max_len, batch_size, pre_trained_model)\n",
    "val_data_loader = create_data_loader(df_val, tokenizer, max_len, batch_size, pre_trained_model)\n",
    "test_data_loader = create_data_loader(df_test, tokenizer, max_len, batch_size, pre_trained_model)\n",
    "\n",
    "print(df_train.shape, df_val.shape, df_test.shape)"
   ]
  },
  {
   "cell_type": "code",
   "execution_count": 6,
   "metadata": {},
   "outputs": [],
   "source": [
    "# initialize the model with 2 classes and bert-base-uncased\n",
    "# do_fine_tune = True -> add dropout layer to the model for now\n",
    "model_fine_tune = SentimentClassifier(2, pre_trained_model, model_name=\"bert-base-with-dropout\" , do_fine_tune = True)\n",
    "model_fine_tune = model_fine_tune.to(device) # move model to GPU if available\n",
    "\n",
    "# do_fine_tune = False -> use the model as it is\n",
    "model_base = SentimentClassifier(2, pre_trained_model,model_name=\"bert-base\", do_fine_tune = False)\n",
    "model_base = model_base.to(device) # move model to GPU if available\n"
   ]
  },
  {
   "cell_type": "code",
   "execution_count": 7,
   "metadata": {},
   "outputs": [],
   "source": [
    "EPOCHS = 5\n",
    "\n",
    "optimizer = optim.AdamW(model_fine_tune.parameters(), lr= 2e-5)\n",
    "\n",
    "total_steps = len(train_data_loader) * EPOCHS\n",
    "\n",
    "scheduler = get_linear_schedule_with_warmup(\n",
    "    optimizer, \n",
    "    num_warmup_steps = 0, \n",
    "    num_training_steps=total_steps)\n",
    "\n",
    "loss_fn = nn.CrossEntropyLoss().to(device)"
   ]
  },
  {
   "cell_type": "code",
   "execution_count": 8,
   "metadata": {},
   "outputs": [],
   "source": [
    "EPOCHS = 5\n",
    "\n",
    "optimizer_base = optim.AdamW(model_base.parameters(), lr= 1e-5)\n",
    "\n",
    "total_steps = len(train_data_loader) * EPOCHS\n",
    "\n",
    "scheduler = get_linear_schedule_with_warmup(\n",
    "    optimizer_base, \n",
    "    num_warmup_steps = 0, \n",
    "    num_training_steps=total_steps)\n",
    "\n"
   ]
  },
  {
   "cell_type": "markdown",
   "metadata": {},
   "source": [
    "\n",
    "### train fine tuned model\n",
    "\n",
    "model_fine_tune is trained with 5 epochs, best accuracy on the validation data is saved"
   ]
  },
  {
   "cell_type": "code",
   "execution_count": 9,
   "metadata": {},
   "outputs": [
    {
     "name": "stdout",
     "output_type": "stream",
     "text": [
      "Epoch 1/ 5\n",
      "---------------\n",
      "Train loss 0.6373262039639733 accuracy 0.6742857098579407\n",
      "Val loss 0.5467474818229675 accuracy 0.7599999904632568\n",
      "Epoch 2/ 5\n",
      "---------------\n",
      "Train loss 0.5330364284190264 accuracy 0.7542856931686401\n",
      "Val loss 0.46891369819641116 accuracy 0.7733333110809326\n",
      "Epoch 3/ 5\n",
      "---------------\n",
      "Train loss 0.38148182291876187 accuracy 0.868571400642395\n",
      "Val loss 0.3779825001955032 accuracy 0.8666666746139526\n",
      "Epoch 4/ 5\n",
      "---------------\n",
      "Train loss 0.19600999050519682 accuracy 0.9657142758369446\n",
      "Val loss 0.3386140003800392 accuracy 0.8666666746139526\n",
      "Epoch 5/ 5\n",
      "---------------\n",
      "Train loss 0.07431915190748194 accuracy 0.977142870426178\n",
      "Val loss 0.32685771882534026 accuracy 0.8799999952316284\n"
     ]
    }
   ],
   "source": [
    "\n",
    "history = defaultdict(list)\n",
    "best_accuracy = 0\n",
    "\n",
    "for epoch in range(EPOCHS):\n",
    "    print(f'Epoch {epoch + 1}/ {EPOCHS}')\n",
    "    print('-'*15)\n",
    "    train_acc, train_loss = train_model(model_fine_tune, train_data_loader, loss_fn, optimizer, device, scheduler, len(df_train))\n",
    "    print(f'Train loss {train_loss} accuracy {train_acc}')\n",
    "\n",
    "    val_acc, val_loss = eval_model(model_fine_tune, val_data_loader, loss_fn, device, len(df_val))\n",
    "    print(f'Val loss {val_loss} accuracy {val_acc}')\n",
    "\n",
    "    history['train_acc'].append(train_acc)\n",
    "    history['train_loss'].append(train_loss)\n",
    "    history['val_acc'].append(val_acc)\n",
    "    history['val_loss'].append(val_loss)\n",
    "\n",
    "    # saves the model with the best accuracy on the validation set on any epoch\n",
    "    if val_acc>best_accuracy:\n",
    "        torch.save(model_fine_tune.state_dict(), './saved_models/{}.bin'.format(model_fine_tune.model_name))\n",
    "        best_accuracy = val_acc"
   ]
  },
  {
   "cell_type": "markdown",
   "metadata": {},
   "source": [
    "\n",
    "### train fine base model without changing the Bert\n",
    "\n",
    "model_base is trained with 5 epochs, best accuracy on the validation data is saved"
   ]
  },
  {
   "cell_type": "code",
   "execution_count": 11,
   "metadata": {},
   "outputs": [
    {
     "name": "stdout",
     "output_type": "stream",
     "text": [
      "Epoch 1/ 5\n",
      "---------------\n",
      "Train loss 0.6529453586448323 accuracy 0.631428599357605\n",
      "Val loss 0.5800407648086547 accuracy 0.7333333492279053\n",
      "Epoch 2/ 5\n",
      "---------------\n",
      "Train loss 0.5895738886161284 accuracy 0.6800000071525574\n",
      "Val loss 0.5448025286197662 accuracy 0.746666669845581\n",
      "Epoch 3/ 5\n",
      "---------------\n",
      "Train loss 0.5314376096833836 accuracy 0.7371428608894348\n",
      "Val loss 0.5096958339214325 accuracy 0.746666669845581\n",
      "Epoch 4/ 5\n",
      "---------------\n",
      "Train loss 0.47866406359455804 accuracy 0.7857142686843872\n",
      "Val loss 0.47966047525405886 accuracy 0.7733333110809326\n",
      "Epoch 5/ 5\n",
      "---------------\n",
      "Train loss 0.4445045522668145 accuracy 0.8114285469055176\n",
      "Val loss 0.4685481131076813 accuracy 0.800000011920929\n"
     ]
    }
   ],
   "source": [
    "history_base = defaultdict(list)\n",
    "best_accuracy_base = 0\n",
    "\n",
    "for epoch in range(EPOCHS):\n",
    "    print(f'Epoch {epoch + 1}/ {EPOCHS}')\n",
    "    print('-'*15)\n",
    "    train_acc, train_loss = train_model(model_base, train_data_loader, loss_fn, optimizer_base, device, scheduler, len(df_train))\n",
    "    print(f'Train loss {train_loss} accuracy {train_acc}')\n",
    "\n",
    "    val_acc, val_loss = eval_model(model_base, val_data_loader, loss_fn, device, len(df_val))\n",
    "    print(f'Val loss {val_loss} accuracy {val_acc}')\n",
    "\n",
    "    history_base['train_acc'].append(train_acc)\n",
    "    history_base['train_loss'].append(train_loss)\n",
    "    history_base['val_acc'].append(val_acc)\n",
    "    history_base['val_loss'].append(val_loss)\n",
    "  \n",
    "    if val_acc>best_accuracy_base:\n",
    "        torch.save(model_base.state_dict(), './saved_models/{}.bin'.format(model_base.model_name))\n",
    "        best_accuracy_base = val_acc"
   ]
  },
  {
   "cell_type": "markdown",
   "metadata": {},
   "source": [
    "TEST DATA RESULT OF FINE TUNED MODEL (WITH DROPOUT)"
   ]
  },
  {
   "cell_type": "code",
   "execution_count": 12,
   "metadata": {
    "collapsed": false
   },
   "outputs": [],
   "source": [
    "def show_confusion_matrix(confusion_matrix):\n",
    "    hmap = sns.heatmap(confusion_matrix, annot=True, fmt=\"d\", cmap=\"Blues\")\n",
    "    hmap.yaxis.set_ticklabels(hmap.yaxis.get_ticklabels(), rotation = 0, ha='right')\n",
    "    hmap.xaxis.set_ticklabels(hmap.xaxis.get_ticklabels(), rotation = 30, ha='right')\n",
    "    plt.ylabel('True Sentiment')\n",
    "    plt.xlabel('Predicted Sentiment')"
   ]
  },
  {
   "cell_type": "code",
   "execution_count": 21,
   "metadata": {},
   "outputs": [
    {
     "name": "stdout",
     "output_type": "stream",
     "text": [
      "              precision    recall  f1-score   support\n",
      "\n",
      "    Negative       0.83      0.57      0.68        35\n",
      "    Positive       0.71      0.90      0.79        40\n",
      "\n",
      "    accuracy                           0.75        75\n",
      "   macro avg       0.77      0.74      0.73        75\n",
      "weighted avg       0.77      0.75      0.74        75\n",
      "\n"
     ]
    },
    {
     "data": {
      "image/png": "[encoded data removed]",
      "text/plain": [
       "<Figure size 640x480 with 2 Axes>"
      ]
     },
     "metadata": {},
     "output_type": "display_data"
    }
   ],
   "source": [
    "\n",
    "# model_fine_tune = SentimentClassifier(2, pre_train_model=\"bert-base-uncased\", do_fine_tune = True).to(device)\n",
    "# model_fine_tune.load_state_dict(torch.load(\"saved_models/best_model_state.bin\"))\n",
    "\n",
    "y_pred, y_pred_probs, y_test = get_predictions(model_fine_tune, test_data_loader)\n",
    "print(classification_report(y_test, y_pred, target_names=class_names))\n",
    "\n",
    "cm = confusion_matrix(y_test, y_pred)\n",
    "df_cm = pd.DataFrame(cm, index=class_names, columns = class_names)\n",
    "show_confusion_matrix(df_cm)"
   ]
  },
  {
   "cell_type": "markdown",
   "metadata": {},
   "source": [
    "TEST DATA RESULT WITH BASE"
   ]
  },
  {
   "cell_type": "code",
   "execution_count": 17,
   "metadata": {},
   "outputs": [
    {
     "name": "stdout",
     "output_type": "stream",
     "text": [
      "              precision    recall  f1-score   support\n",
      "\n",
      "    Negative       1.00      0.34      0.51        35\n",
      "    Positive       0.63      1.00      0.78        40\n",
      "\n",
      "    accuracy                           0.69        75\n",
      "   macro avg       0.82      0.67      0.64        75\n",
      "weighted avg       0.81      0.69      0.65        75\n",
      "\n"
     ]
    },
    {
     "data": {
      "image/png": "[encoded data removed]",
      "text/plain": [
       "<Figure size 640x480 with 2 Axes>"
      ]
     },
     "metadata": {},
     "output_type": "display_data"
    }
   ],
   "source": [
    "y_pred, y_pred_probs, y_test = get_predictions(model_base, test_data_loader) \n",
    "print(classification_report(y_test, y_pred, target_names=class_names))\n",
    "\n",
    "cm = confusion_matrix(y_test, y_pred)\n",
    "df_cm = pd.DataFrame(cm, index=class_names, columns = class_names)\n",
    "show_confusion_matrix(df_cm)"
   ]
  },
  {
   "cell_type": "markdown",
   "metadata": {},
   "source": [
    "# Run model on IEEE data\n",
    "https://ieee-dataport.org/open-access/stock-market-tweets-data"
   ]
  },
  {
   "cell_type": "code",
   "execution_count": 45,
   "metadata": {},
   "outputs": [
    {
     "name": "stdout",
     "output_type": "stream",
     "text": [
      "       id                 created_at  \\\n",
      "0   77522  2020-04-15 01:03:46+00:00   \n",
      "1  661634  2020-06-25 06:20:06+00:00   \n",
      "2  413231  2020-06-04 15:41:45+00:00   \n",
      "3  760262  2020-07-03 19:39:35+00:00   \n",
      "4  830153  2020-07-09 14:39:14+00:00   \n",
      "\n",
      "                                                text sentiment  \n",
      "0  RT @RobertBeadles: Yo💥\\nEnter to WIN 1,000 Mon...  positive  \n",
      "1  #SriLanka surcharge on fuel removed!\\n⛽📉\\nThe ...  negative  \n",
      "2  Net issuance increases to fund fiscal programs...  positive  \n",
      "3  RT @bentboolean: How much of Amazon's traffic ...  positive  \n",
      "4  $AMD Ryzen 4000 desktop CPUs looking ‘great’ a...  positive  \n"
     ]
    }
   ],
   "source": [
    "import pandas as pd\n",
    "df = pd.read_csv(\"data/tweets_labelled_ieee.csv\", delimiter=';')\n",
    "df.dropna(inplace=True)\n",
    "print(df.head())"
   ]
  },
  {
   "cell_type": "code",
   "execution_count": 46,
   "metadata": {},
   "outputs": [
    {
     "name": "stdout",
     "output_type": "stream",
     "text": [
      "       id                 created_at  \\\n",
      "0   77522  2020-04-15 01:03:46+00:00   \n",
      "1  661634  2020-06-25 06:20:06+00:00   \n",
      "2  413231  2020-06-04 15:41:45+00:00   \n",
      "3  760262  2020-07-03 19:39:35+00:00   \n",
      "4  830153  2020-07-09 14:39:14+00:00   \n",
      "\n",
      "                                                news    labels  \n",
      "0  RT @RobertBeadles: Yo💥\\nEnter to WIN 1,000 Mon...  positive  \n",
      "1  #SriLanka surcharge on fuel removed!\\n⛽📉\\nThe ...  negative  \n",
      "2  Net issuance increases to fund fiscal programs...  positive  \n",
      "3  RT @bentboolean: How much of Amazon's traffic ...  positive  \n",
      "4  $AMD Ryzen 4000 desktop CPUs looking ‘great’ a...  positive  \n"
     ]
    }
   ],
   "source": [
    "# arrange the column headers, remove neutral sentiment\n",
    "df= df[df['sentiment'] != \"neutral\"]\n",
    "df.reset_index(drop=True, inplace=True)\n",
    "df.rename(columns={'text': 'news'}, inplace=True) \n",
    "df.rename(columns={'sentiment': 'labels'}, inplace=True)\n",
    "\n",
    "print(df.head())"
   ]
  },
  {
   "cell_type": "code",
   "execution_count": 47,
   "metadata": {},
   "outputs": [
    {
     "data": {
      "text/html": [
       "<div>\n",
       "<style scoped>\n",
       "    .dataframe tbody tr th:only-of-type {\n",
       "        vertical-align: middle;\n",
       "    }\n",
       "\n",
       "    .dataframe tbody tr th {\n",
       "        vertical-align: top;\n",
       "    }\n",
       "\n",
       "    .dataframe thead th {\n",
       "        text-align: right;\n",
       "    }\n",
       "</style>\n",
       "<table border=\"1\" class=\"dataframe\">\n",
       "  <thead>\n",
       "    <tr style=\"text-align: right;\">\n",
       "      <th></th>\n",
       "      <th>id</th>\n",
       "      <th>created_at</th>\n",
       "      <th>news</th>\n",
       "      <th>labels</th>\n",
       "    </tr>\n",
       "  </thead>\n",
       "  <tbody>\n",
       "    <tr>\n",
       "      <th>0</th>\n",
       "      <td>77522</td>\n",
       "      <td>2020-04-15 01:03:46+00:00</td>\n",
       "      <td>RT @RobertBeadles: Yo💥\\nEnter to WIN 1,000 Mon...</td>\n",
       "      <td>1</td>\n",
       "    </tr>\n",
       "    <tr>\n",
       "      <th>1</th>\n",
       "      <td>661634</td>\n",
       "      <td>2020-06-25 06:20:06+00:00</td>\n",
       "      <td>#SriLanka surcharge on fuel removed!\\n⛽📉\\nThe ...</td>\n",
       "      <td>0</td>\n",
       "    </tr>\n",
       "    <tr>\n",
       "      <th>2</th>\n",
       "      <td>413231</td>\n",
       "      <td>2020-06-04 15:41:45+00:00</td>\n",
       "      <td>Net issuance increases to fund fiscal programs...</td>\n",
       "      <td>1</td>\n",
       "    </tr>\n",
       "    <tr>\n",
       "      <th>3</th>\n",
       "      <td>760262</td>\n",
       "      <td>2020-07-03 19:39:35+00:00</td>\n",
       "      <td>RT @bentboolean: How much of Amazon's traffic ...</td>\n",
       "      <td>1</td>\n",
       "    </tr>\n",
       "    <tr>\n",
       "      <th>4</th>\n",
       "      <td>830153</td>\n",
       "      <td>2020-07-09 14:39:14+00:00</td>\n",
       "      <td>$AMD Ryzen 4000 desktop CPUs looking ‘great’ a...</td>\n",
       "      <td>1</td>\n",
       "    </tr>\n",
       "  </tbody>\n",
       "</table>\n",
       "</div>"
      ],
      "text/plain": [
       "       id                 created_at  \\\n",
       "0   77522  2020-04-15 01:03:46+00:00   \n",
       "1  661634  2020-06-25 06:20:06+00:00   \n",
       "2  413231  2020-06-04 15:41:45+00:00   \n",
       "3  760262  2020-07-03 19:39:35+00:00   \n",
       "4  830153  2020-07-09 14:39:14+00:00   \n",
       "\n",
       "                                                news  labels  \n",
       "0  RT @RobertBeadles: Yo💥\\nEnter to WIN 1,000 Mon...       1  \n",
       "1  #SriLanka surcharge on fuel removed!\\n⛽📉\\nThe ...       0  \n",
       "2  Net issuance increases to fund fiscal programs...       1  \n",
       "3  RT @bentboolean: How much of Amazon's traffic ...       1  \n",
       "4  $AMD Ryzen 4000 desktop CPUs looking ‘great’ a...       1  "
      ]
     },
     "execution_count": 47,
     "metadata": {},
     "output_type": "execute_result"
    }
   ],
   "source": [
    "map_sentiment = { 'negative': 0, 'positive': 1}\n",
    "df[\"labels\"] = df[\"labels\"].map(map_sentiment)\n",
    "df.head()\n",
    "\n"
   ]
  },
  {
   "cell_type": "code",
   "execution_count": 60,
   "metadata": {},
   "outputs": [
    {
     "data": {
      "text/plain": [
       "<All keys matched successfully>"
      ]
     },
     "execution_count": 60,
     "metadata": {},
     "output_type": "execute_result"
    }
   ],
   "source": [
    "# load the model saved from previous training\n",
    "model_fine_tune = SentimentClassifier(2, pre_train_model=\"bert-base-uncased\", do_fine_tune = True).to(device)\n",
    "model_fine_tune.load_state_dict(torch.load(\"saved_models/best_model_state.bin\"))"
   ]
  },
  {
   "cell_type": "code",
   "execution_count": 52,
   "metadata": {},
   "outputs": [
    {
     "name": "stdout",
     "output_type": "stream",
     "text": [
      "         id                 created_at  \\\n",
      "821  467272  2020-06-09 14:58:47+00:00   \n",
      "181  698256  2020-06-29 20:03:36+00:00   \n",
      "833  689349  2020-06-28 19:42:26+00:00   \n",
      "69   756997  2020-07-02 05:30:13+00:00   \n",
      "131   35371  2020-04-13 19:27:49+00:00   \n",
      "\n",
      "                                                  news  labels  \n",
      "821  I got $AAPL at $336 triangle. Up 60%.\\n\\nI am ...       1  \n",
      "181     Everything doing great!! #SP500 Great Again!!!       1  \n",
      "833  RT @leadlagreport: These are the long-term val...       1  \n",
      "69   $AMZN - Amazon establishes new aerospace cloud...       1  \n",
      "131  BOOM 💰💰 Come Join US \\n$fb $aapl $amzn $nflx $...       1  \n"
     ]
    }
   ],
   "source": [
    "df_train, df_test = train_test_split(df, test_size = 0.3, random_state = RANDOM_SEED)\n",
    "print(df_train.head())"
   ]
  },
  {
   "cell_type": "code",
   "execution_count": 53,
   "metadata": {},
   "outputs": [
    {
     "name": "stdout",
     "output_type": "stream",
     "text": [
      "labels\n",
      "1    528\n",
      "0    348\n",
      "Name: count, dtype: int64\n"
     ]
    }
   ],
   "source": [
    "print(df.labels.value_counts())"
   ]
  },
  {
   "cell_type": "code",
   "execution_count": 54,
   "metadata": {},
   "outputs": [],
   "source": [
    "max_len  = 512\n",
    "batch_size = 8\n",
    "# train_data_loader = create_data_loader(df_train, tokenizer, max_len, batch_size, include_raw_text=False)\n",
    "val_data_loader = create_data_loader(df_test,tokenizer, max_len, batch_size )\n",
    "all_data_loader = create_data_loader(df, tokenizer, max_len, batch_size)"
   ]
  },
  {
   "cell_type": "markdown",
   "metadata": {},
   "source": [
    "## Fine tuned bert result on IEEE data"
   ]
  },
  {
   "cell_type": "code",
   "execution_count": 55,
   "metadata": {},
   "outputs": [],
   "source": [
    "import seaborn as sns\n",
    "def show_confusion_matrix(confusion_matrix):\n",
    "    hmap = sns.heatmap(confusion_matrix, annot=True, fmt=\"d\", cmap=\"Blues\")\n",
    "    hmap.yaxis.set_ticklabels(hmap.yaxis.get_ticklabels(), rotation = 0, ha='right')\n",
    "    hmap.xaxis.set_ticklabels(hmap.xaxis.get_ticklabels(), rotation = 30, ha='right')\n",
    "    plt.ylabel('True Sentiment')\n",
    "    plt.xlabel('Predicted Sentiment')\n",
    "\n"
   ]
  },
  {
   "cell_type": "code",
   "execution_count": 32,
   "metadata": {},
   "outputs": [],
   "source": [
    "import matplotlib.pyplot as plt"
   ]
  },
  {
   "cell_type": "code",
   "execution_count": 61,
   "metadata": {},
   "outputs": [
    {
     "name": "stdout",
     "output_type": "stream",
     "text": [
      "              precision    recall  f1-score   support\n",
      "\n",
      "    negative       0.69      0.45      0.55       348\n",
      "    positive       0.71      0.87      0.78       528\n",
      "\n",
      "    accuracy                           0.70       876\n",
      "   macro avg       0.70      0.66      0.66       876\n",
      "weighted avg       0.70      0.70      0.69       876\n",
      "\n"
     ]
    },
    {
     "data": {
      "image/png": "[encoded data removed]",
      "text/plain": [
       "<Figure size 640x480 with 2 Axes>"
      ]
     },
     "metadata": {},
     "output_type": "display_data"
    }
   ],
   "source": [
    "class_names = ['negative', \"positive\"]\n",
    "y_pred, y_pred_probs, y_test = get_predictions(model_fine_tune, all_data_loader)\n",
    "print(classification_report(y_test, y_pred, target_names=class_names))\n",
    "\n",
    "cm = confusion_matrix(y_test, y_pred)\n",
    "df_cm = pd.DataFrame(cm, index=class_names, columns = class_names)\n",
    "show_confusion_matrix(df_cm)"
   ]
  },
  {
   "cell_type": "markdown",
   "metadata": {},
   "source": [
    "## Base model bert result on IEEE data"
   ]
  },
  {
   "cell_type": "code",
   "execution_count": 58,
   "metadata": {},
   "outputs": [
    {
     "data": {
      "text/plain": [
       "<All keys matched successfully>"
      ]
     },
     "execution_count": 58,
     "metadata": {},
     "output_type": "execute_result"
    }
   ],
   "source": [
    "model_base = SentimentClassifier(2, \"bert-base-uncased\", do_fine_tune = False).to(device)\n",
    "model_base.load_state_dict(torch.load(\"saved_models/bert-base.bin\")) # tried to load different model - "
   ]
  },
  {
   "cell_type": "code",
   "execution_count": 59,
   "metadata": {},
   "outputs": [
    {
     "name": "stdout",
     "output_type": "stream",
     "text": [
      "              precision    recall  f1-score   support\n",
      "\n",
      "    negative       0.65      0.43      0.52       348\n",
      "    positive       0.69      0.85      0.76       528\n",
      "\n",
      "    accuracy                           0.68       876\n",
      "   macro avg       0.67      0.64      0.64       876\n",
      "weighted avg       0.68      0.68      0.67       876\n",
      "\n"
     ]
    },
    {
     "data": {
      "image/png": "[encoded data removed]",
      "text/plain": [
       "<Figure size 640x480 with 2 Axes>"
      ]
     },
     "metadata": {},
     "output_type": "display_data"
    }
   ],
   "source": [
    "y_pred, y_pred_probs, y_test = get_predictions(model_fine_tune, all_data_loader)\n",
    "print(classification_report(y_test, y_pred, target_names=class_names))\n",
    "\n",
    "cm = confusion_matrix(y_test, y_pred)\n",
    "df_cm = pd.DataFrame(cm, index=class_names, columns = class_names)\n",
    "show_confusion_matrix(df_cm)"
   ]
  }
 ],
 "metadata": {
  "kernelspec": {
   "display_name": "env",
   "language": "python",
   "name": "python3"
  },
  "language_info": {
   "codemirror_mode": {
    "name": "ipython",
    "version": 3
   },
   "file_extension": ".py",
   "mimetype": "text/x-python",
   "name": "python",
   "nbconvert_exporter": "python",
   "pygments_lexer": "ipython3",
   "version": "3.10.12"
  },
  "orig_nbformat": 4
 },
 "nbformat": 4,
 "nbformat_minor": 2
}
