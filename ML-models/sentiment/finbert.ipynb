{
 "cells": [
  {
   "cell_type": "code",
   "execution_count": 11,
   "metadata": {},
   "outputs": [],
   "source": [
    "import numpy as np\n",
    "import torch\n",
    "from torch import nn, optim\n",
    "from torch.utils.data import Dataset, DataLoader\n",
    "import torch.nn.functional as F\n",
    "from transformers import BertTokenizer, BertModel, get_linear_schedule_with_warmup\n",
    "\n",
    "from data_loader import *\n",
    "from modeling import *\n",
    "from training import *\n",
    "import pandas as pd\n",
    "import seaborn as sns\n",
    "import matplotlib.pyplot as plt\n",
    "from collections import defaultdict"
   ]
  },
  {
   "cell_type": "code",
   "execution_count": 2,
   "metadata": {},
   "outputs": [
    {
     "name": "stdout",
     "output_type": "stream",
     "text": [
      "Index(['Stock Ticker', 'news', 'Sentiment', 'Tweet URL', 'labels'], dtype='object')\n",
      "labels\n",
      "1    327\n",
      "0    173\n",
      "Name: count, dtype: int64\n"
     ]
    }
   ],
   "source": [
    "import pandas as pd\n",
    "\n",
    "from sklearn.model_selection import train_test_split\n",
    "from sklearn.metrics import confusion_matrix, classification_report\n",
    "RANDOM_SEED = 42\n",
    "\n",
    "\n",
    "df = pd.read_csv(\"data/sentiment.csv\")\n",
    "map_sentiment = { 'Negative': 0, 'Positive': 1}\n",
    "class_names = ['Negative', 'Positive']\n",
    "df.rename(columns={'Tweet Text': 'news'}, inplace=True)  # change the description name to new\n",
    "\n",
    "df['labels'] = df['Sentiment'].map(map_sentiment)\n",
    "\n",
    "print(df.columns)\n",
    "print(df.labels.value_counts())"
   ]
  },
  {
   "cell_type": "code",
   "execution_count": 3,
   "metadata": {},
   "outputs": [],
   "source": [
    "df_train, df_test = train_test_split(df, test_size = 0.3, random_state = RANDOM_SEED)\n",
    "\n",
    "df_val, df_test = train_test_split(df_test, test_size = 0.5, random_state = RANDOM_SEED)"
   ]
  },
  {
   "cell_type": "code",
   "execution_count": 4,
   "metadata": {},
   "outputs": [],
   "source": [
    "\n",
    "from transformers import BertTokenizer, BertForSequenceClassification\n",
    "#finbert -> ProsusAI/finbert\n",
    "finbert = BertForSequenceClassification.from_pretrained('ProsusAI/finbert',num_labels=3)\n",
    "tokenizer = BertTokenizer.from_pretrained('ProsusAI/finbert')"
   ]
  },
  {
   "cell_type": "code",
   "execution_count": 5,
   "metadata": {},
   "outputs": [
    {
     "name": "stdout",
     "output_type": "stream",
     "text": [
      "(350, 5) (75, 5) (75, 5)\n"
     ]
    }
   ],
   "source": [
    "\n",
    "max_len = 128 # change accordingly\n",
    "batch_size = 16 # change accordingly\n",
    "\n",
    "train_data_loader = create_data_loader(df_train, tokenizer, max_len, batch_size)\n",
    "val_data_loader = create_data_loader(df_val, tokenizer, max_len, batch_size, include_raw_text=False)\n",
    "test_data_loader = create_data_loader(df_test, tokenizer,max_len, batch_size, include_raw_text=False)\n",
    "\n",
    "print(df_train.shape, df_val.shape, df_test.shape)"
   ]
  },
  {
   "cell_type": "code",
   "execution_count": 6,
   "metadata": {},
   "outputs": [],
   "source": [
    "finbert_fine_tune = SentimentClassifier(2, \"ProsusAI/finbert\", model_name= \"finbert-fine-tune\", do_fine_tune = True).to(device)\n",
    "\n",
    "finbert_base = SentimentClassifier(2, \"ProsusAI/finbert\", model_name = \"finber-base\", do_fine_tune = False).to(device)"
   ]
  },
  {
   "cell_type": "code",
   "execution_count": 7,
   "metadata": {},
   "outputs": [],
   "source": [
    "df_train, df_test = train_test_split(df, test_size = 0.3, random_state = RANDOM_SEED)\n",
    "\n",
    "df_val, df_test = train_test_split(df_test, test_size = 0.5, random_state = RANDOM_SEED)"
   ]
  },
  {
   "cell_type": "code",
   "execution_count": 8,
   "metadata": {},
   "outputs": [
    {
     "name": "stdout",
     "output_type": "stream",
     "text": [
      "(350, 5) (75, 5) (75, 5)\n"
     ]
    }
   ],
   "source": [
    "\n",
    "max_len = 128 # change accordingly\n",
    "batch_size = 16 # change accordingly\n",
    "\n",
    "train_data_loader = create_data_loader(df_train, tokenizer, max_len, batch_size)\n",
    "val_data_loader = create_data_loader(df_val, tokenizer, max_len, batch_size)\n",
    "test_data_loader = create_data_loader(df_test, tokenizer,max_len, batch_size)\n",
    "\n",
    "print(df_train.shape, df_val.shape, df_test.shape)"
   ]
  },
  {
   "cell_type": "code",
   "execution_count": 9,
   "metadata": {},
   "outputs": [],
   "source": [
    "EPOCHS = 3\n",
    "\n",
    "optimizer = optim.AdamW(finbert_fine_tune.parameters(), lr= 2e-5)\n",
    "\n",
    "total_steps = len(train_data_loader) * EPOCHS\n",
    "\n",
    "scheduler = get_linear_schedule_with_warmup(\n",
    "    optimizer, \n",
    "    num_warmup_steps = 0, \n",
    "    num_training_steps=total_steps)\n",
    "\n",
    "loss_fn = nn.CrossEntropyLoss().to(device)"
   ]
  },
  {
   "cell_type": "code",
   "execution_count": 10,
   "metadata": {},
   "outputs": [],
   "source": [
    "EPOCHS = 3\n",
    "\n",
    "optimizer_base = optim.AdamW(finbert_base.parameters(), lr= 2e-5)\n",
    "\n",
    "total_steps = len(train_data_loader) * EPOCHS\n",
    "\n",
    "scheduler = get_linear_schedule_with_warmup(\n",
    "    optimizer_base, \n",
    "    num_warmup_steps = 0, \n",
    "    num_training_steps=total_steps)\n",
    "\n",
    "loss_fn = nn.CrossEntropyLoss().to(device)"
   ]
  },
  {
   "cell_type": "markdown",
   "metadata": {},
   "source": [
    "## fine tuned finbert\n",
    "burada finbert in yiyanghkust/finbert-tone modelini kullanmisim\n",
    "ProsusAI/finbert ile calistirmadim\n"
   ]
  },
  {
   "cell_type": "code",
   "execution_count": 12,
   "metadata": {},
   "outputs": [
    {
     "name": "stdout",
     "output_type": "stream",
     "text": [
      "Epoch 1/ 3\n",
      "---------------\n",
      "Train loss 0.6485979990525679 accuracy 0.6200000047683716\n",
      "Val loss 0.4647055685520172 accuracy 0.8266666531562805\n",
      "Epoch 2/ 3\n",
      "---------------\n",
      "Train loss 0.4863403778184544 accuracy 0.8057143092155457\n",
      "Val loss 0.4007686376571655 accuracy 0.8666666746139526\n",
      "Epoch 3/ 3\n",
      "---------------\n",
      "Train loss 0.40054771168665454 accuracy 0.8600000143051147\n",
      "Val loss 0.381109219789505 accuracy 0.8666666746139526\n"
     ]
    }
   ],
   "source": [
    "history = defaultdict(list)\n",
    "best_accuracy = 0\n",
    "\n",
    "for epoch in range(EPOCHS):\n",
    "    print(f'Epoch {epoch + 1}/ {EPOCHS}')\n",
    "    print('-'*15)\n",
    "    train_acc, train_loss = train_model(finbert_fine_tune, train_data_loader, loss_fn, optimizer, device, scheduler, len(df_train))\n",
    "    print(f'Train loss {train_loss} accuracy {train_acc}')\n",
    "\n",
    "    val_acc, val_loss = eval_model(finbert_fine_tune, val_data_loader, loss_fn, device, len(df_val))\n",
    "    print(f'Val loss {val_loss} accuracy {val_acc}')\n",
    "\n",
    "    history['train_acc'].append(train_acc)\n",
    "    history['train_loss'].append(train_loss)\n",
    "    history['val_acc'].append(val_acc)\n",
    "    history['val_loss'].append(val_loss)\n",
    "  \n",
    "    if val_acc>best_accuracy:\n",
    "        torch.save(finbert_fine_tune.state_dict(), './saved_models/{}.bin'.format(finbert_fine_tune.model_name)) # check this\n",
    "        best_accuracy = val_acc"
   ]
  },
  {
   "cell_type": "markdown",
   "metadata": {},
   "source": [
    "# base finbert"
   ]
  },
  {
   "cell_type": "code",
   "execution_count": 15,
   "metadata": {},
   "outputs": [
    {
     "name": "stdout",
     "output_type": "stream",
     "text": [
      "Epoch 1/ 3\n",
      "---------------\n",
      "Train loss 0.7626371573318135 accuracy 0.46000000834465027\n",
      "Val loss 0.7390401601791382 accuracy 0.46666666865348816\n",
      "Epoch 2/ 3\n",
      "---------------\n",
      "Train loss 0.761683854189786 accuracy 0.4657142758369446\n",
      "Val loss 0.7390401601791382 accuracy 0.46666666865348816\n",
      "Epoch 3/ 3\n",
      "---------------\n",
      "Train loss 0.7634286988865245 accuracy 0.4571428596973419\n",
      "Val loss 0.7390401601791382 accuracy 0.46666666865348816\n"
     ]
    }
   ],
   "source": [
    "history_base = defaultdict(list)\n",
    "best_accuracy_base = 0\n",
    "\n",
    "for epoch in range(EPOCHS):\n",
    "    print(f'Epoch {epoch + 1}/ {EPOCHS}')\n",
    "    print('-'*15)\n",
    "    train_acc, train_loss = train_model(finbert_base, train_data_loader, loss_fn, optimizer_base, device, scheduler, len(df_train))\n",
    "    print(f'Train loss {train_loss} accuracy {train_acc}')\n",
    "\n",
    "    val_acc, val_loss = eval_model(finbert_base, val_data_loader, loss_fn, device, len(df_val))\n",
    "    print(f'Val loss {val_loss} accuracy {val_acc}')\n",
    "\n",
    "    history_base['train_acc'].append(train_acc)\n",
    "    history_base['train_loss'].append(train_loss)\n",
    "    history_base['val_acc'].append(val_acc)\n",
    "    history_base['val_loss'].append(val_loss)\n",
    "  \n",
    "    if val_acc>best_accuracy_base:\n",
    "        torch.save(finbert_base.state_dict(), './saved_models/{}.bin'.format(finbert_base.model_name)\n",
    "        best_accuracy_base = val_acc"
   ]
  },
  {
   "cell_type": "code",
   "execution_count": 18,
   "metadata": {},
   "outputs": [
    {
     "name": "stdout",
     "output_type": "stream",
     "text": [
      "              precision    recall  f1-score   support\n",
      "\n",
      "    Negative       0.92      0.66      0.77        35\n",
      "    Positive       0.76      0.95      0.84        40\n",
      "\n",
      "    accuracy                           0.81        75\n",
      "   macro avg       0.84      0.80      0.81        75\n",
      "weighted avg       0.83      0.81      0.81        75\n",
      "\n"
     ]
    },
    {
     "data": {
      "image/png": "[encoded data removed]",
      "text/plain": [
       "<Figure size 640x480 with 2 Axes>"
      ]
     },
     "metadata": {},
     "output_type": "display_data"
    }
   ],
   "source": [
    "def show_confusion_matrix(confusion_matrix):\n",
    "    hmap = sns.heatmap(confusion_matrix, annot=True, fmt=\"d\", cmap=\"Blues\")\n",
    "    hmap.yaxis.set_ticklabels(hmap.yaxis.get_ticklabels(), rotation = 0, ha='right')\n",
    "    hmap.xaxis.set_ticklabels(hmap.xaxis.get_ticklabels(), rotation = 30, ha='right')\n",
    "    plt.ylabel('True Sentiment')\n",
    "    plt.xlabel('Predicted Sentiment')\n",
    "y_pred, y_pred_probs, y_test = get_predictions(finbert_fine_tune, test_data_loader)\n",
    "print(classification_report(y_test, y_pred, target_names=class_names))\n",
    "\n",
    "cm = confusion_matrix(y_test, y_pred)\n",
    "df_cm = pd.DataFrame(cm, index=class_names, columns = class_names)\n",
    "show_confusion_matrix(df_cm)"
   ]
  },
  {
   "cell_type": "code",
   "execution_count": 19,
   "metadata": {},
   "outputs": [
    {
     "name": "stdout",
     "output_type": "stream",
     "text": [
      "              precision    recall  f1-score   support\n",
      "\n",
      "    Negative       0.15      0.09      0.11        35\n",
      "    Positive       0.42      0.57      0.48        40\n",
      "\n",
      "    accuracy                           0.35        75\n",
      "   macro avg       0.28      0.33      0.30        75\n",
      "weighted avg       0.29      0.35      0.31        75\n",
      "\n"
     ]
    },
    {
     "data": {
      "image/png": "[encoded data removed]",
      "text/plain": [
       "<Figure size 640x480 with 2 Axes>"
      ]
     },
     "metadata": {},
     "output_type": "display_data"
    }
   ],
   "source": [
    "y_pred, y_pred_probs, y_test = get_predictions(finbert_base, test_data_loader)\n",
    "print(classification_report(y_test, y_pred, target_names=class_names))\n",
    "\n",
    "cm = confusion_matrix(y_test, y_pred)\n",
    "df_cm = pd.DataFrame(cm, index=class_names, columns = class_names)\n",
    "show_confusion_matrix(df_cm)"
   ]
  }
 ],
 "metadata": {
  "kernelspec": {
   "display_name": "env",
   "language": "python",
   "name": "python3"
  },
  "language_info": {
   "codemirror_mode": {
    "name": "ipython",
    "version": 3
   },
   "file_extension": ".py",
   "mimetype": "text/x-python",
   "name": "python",
   "nbconvert_exporter": "python",
   "pygments_lexer": "ipython3",
   "version": "3.10.12"
  },
  "orig_nbformat": 4
 },
 "nbformat": 4,
 "nbformat_minor": 2
}
